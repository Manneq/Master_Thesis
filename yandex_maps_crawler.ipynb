{
  "nbformat": 4,
  "nbformat_minor": 0,
  "metadata": {
    "colab": {
      "name": "yandex_maps_crawler.ipynb",
      "provenance": [],
      "collapsed_sections": []
    },
    "kernelspec": {
      "name": "python3",
      "display_name": "Python 3"
    }
  },
  "cells": [
    {
      "cell_type": "code",
      "metadata": {
        "id": "kyHFMqLZyPsZ"
      },
      "source": [
        "import pandas as pd\n",
        "import numpy as np\n",
        "import requests"
      ],
      "execution_count": null,
      "outputs": []
    },
    {
      "cell_type": "code",
      "metadata": {
        "id": "6kdSXDS6yYp1"
      },
      "source": [
        "data = pd.read_csv(\"CustFlowDataset_full_red_mcc.csv\", index_col=None)\n",
        "names_full = data[\"Unnamed: 0\"].values\n",
        "names_short = data[\"org_name\"].values\n",
        "categories = data[[\"category1\", \"category2\", \"category3\"]].values\n",
        "categories_mcc_string = data[[\"category1_mcc_string\", \"category2_mcc_string\", \n",
        "                              \"category3_mcc_string\"]].values\n",
        "\n",
        "app_keys = [\"key_example"\]"
      ],
      "execution_count": null,
      "outputs": []
    },
    {
      "cell_type": "code",
      "metadata": {
        "id": "pnuXlipMyhk1"
      },
      "source": [
        "offset = 0\n",
        "step = 0\n",
        "\n",
        "for app_key in app_keys:\n",
        "    for i in range(500):\n",
        "        if i + step + offset >= names_short.shape[0]:\n",
        "            break\n",
        "        \n",
        "        request = 'https://search-maps.yandex.ru/v1/?text=' + names_full[i + step + offset] + \\\n",
        "            '&type=biz&ll=30.372821,59.958007&spn=0.004,0.002&lang=ru_RU&apikey=' + app_key\n",
        "        results = requests.get(request).json()\n",
        "        print(results)\n",
        "        \n",
        "        try:\n",
        "            categories_results = results['features'][0]['properties']['CompanyMetaData']['Categories']\n",
        "            names_result = results['features'][0]['properties']['CompanyMetaData']['name']\n",
        "            \n",
        "            names_short[i + step + offset] = names_result\n",
        "            \n",
        "            for category_index in range(len(categories_results)):\n",
        "                if category_index > 2:\n",
        "                    break\n",
        "                \n",
        "                categories[i + step + offset, category_index] = categories_results[category_index]['name']\n",
        "                categories_mcc_string[i + step + offset, category_index] = categories_results[category_index]['class']\n",
        "        except:\n",
        "            continue\n",
        "    \n",
        "    step += 500"
      ],
      "execution_count": null,
      "outputs": []
    },
    {
      "cell_type": "code",
      "metadata": {
        "id": "Uzw5WpDeymD3"
      },
      "source": [
        "data['org_name'] = names_short\n",
        "data['category1'] = categories[:, 0]\n",
        "data['category2'] = categories[:, 1]\n",
        "data['category3'] = categories[:, 2]\n",
        "data['category1_mcc_string'] = categories_mcc_string[:, 0]\n",
        "data['category2_mcc_string'] = categories_mcc_string[:, 1]\n",
        "data['category3_mcc_string'] = categories_mcc_string[:, 2]\n",
        "data.to_csv(\"CustFlowDataset_full_red_mcc.csv\", index=None)"
      ],
      "execution_count": null,
      "outputs": []
    },
    {
      "cell_type": "code",
      "metadata": {
        "id": "PXo8wTL2IhWY"
      },
      "source": [
        "data = data[data['category1_mcc_string'].values != \"none\"]\n",
        "data.to_csv(\"CustFlowDataset_full_red_mcc.csv\", index=None)"
      ],
      "execution_count": null,
      "outputs": []
    }
  ]
}
