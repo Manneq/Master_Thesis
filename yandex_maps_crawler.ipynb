{
  "nbformat": 4,
  "nbformat_minor": 0,
  "metadata": {
    "colab": {
      "name": "yandex_maps_crawler.ipynb",
      "provenance": [],
      "collapsed_sections": []
    },
    "kernelspec": {
      "name": "python3",
      "display_name": "Python 3"
    }
  },
  "cells": [
    {
      "cell_type": "code",
      "metadata": {
        "id": "kyHFMqLZyPsZ"
      },
      "source": [
        "import pandas as pd\n",
        "import numpy as np\n",
        "import requests"
      ],
      "execution_count": null,
      "outputs": []
    },
    {
      "cell_type": "code",
      "metadata": {
        "id": "6kdSXDS6yYp1"
      },
      "source": [
        "data = pd.read_csv(\"CustFlowDataset_full_red_mcc.csv\", index_col=None)\n",
        "names_full = data[\"Unnamed: 0\"].values\n",
        "names_short = data[\"org_name\"].values\n",
        "categories = data[[\"category1\", \"category2\", \"category3\"]].values\n",
        "categories_mcc_string = data[[\"category1_mcc_string\", \"category2_mcc_string\", \n",
        "                              \"category3_mcc_string\"]].values\n",
        "\n",
        "app_keys = [\"3a2eb450-eeae-4657-86e8-b531db4d912e\", \n",
        "            \"17047a85-f562-4c18-b8e9-a204a3093f90\",\n",
        "            \"75f43276-fdf5-4347-ba25-9c1b4b33aec0\",\n",
        "            \"8228fc0f-0cf3-4d11-ade8-0c79f5aa2c50\", \n",
        "            \"98768c74-405b-4e25-a4fa-91f1cb20af7f\", \n",
        "            \"74b36c35-5340-4bc3-8254-2bab716bb5ad\", \n",
        "            \"04019624-3bd7-45db-90a4-f61262ecc96f\", \n",
        "            \"996bd176-aaf5-4041-b369-933dafda0f0e\", \n",
        "            \"6b565a82-1988-4e04-a4bb-e36f11398db8\", \n",
        "            \"bd127805-3750-439b-929f-cdde13d97257\", \n",
        "            \"544b6025-fe5c-42c8-8b00-0ed013e67841\", \n",
        "            \"a97c2623-4c69-4c85-9ac0-4ace19cefdec\", \n",
        "            \"8c31d95e-28b3-4487-af13-239270107ce1\", \n",
        "            \"9bba2e35-08e7-477f-92f5-3eac5951504a\", \n",
        "            \"41c5632d-0935-4bc1-855f-17471937837d\", \n",
        "            \"f790402e-51ca-4475-88b2-2226cf47d58b\"]"
      ],
      "execution_count": null,
      "outputs": []
    },
    {
      "cell_type": "code",
      "metadata": {
        "id": "pnuXlipMyhk1"
      },
      "source": [
        "offset = 0\n",
        "step = 0\n",
        "\n",
        "for app_key in app_keys:\n",
        "    for i in range(500):\n",
        "        if i + step + offset >= names_short.shape[0]:\n",
        "            break\n",
        "        \n",
        "        request = 'https://search-maps.yandex.ru/v1/?text=' + names_full[i + step + offset] + \\\n",
        "            '&type=biz&ll=30.372821,59.958007&spn=0.004,0.002&lang=ru_RU&apikey=' + app_key\n",
        "        results = requests.get(request).json()\n",
        "        print(results)\n",
        "        \n",
        "        try:\n",
        "            categories_results = results['features'][0]['properties']['CompanyMetaData']['Categories']\n",
        "            names_result = results['features'][0]['properties']['CompanyMetaData']['name']\n",
        "            \n",
        "            names_short[i + step + offset] = names_result\n",
        "            \n",
        "            for category_index in range(len(categories_results)):\n",
        "                if category_index > 2:\n",
        "                    break\n",
        "                \n",
        "                categories[i + step + offset, category_index] = categories_results[category_index]['name']\n",
        "                categories_mcc_string[i + step + offset, category_index] = categories_results[category_index]['class']\n",
        "        except:\n",
        "            continue\n",
        "    \n",
        "    step += 500"
      ],
      "execution_count": null,
      "outputs": []
    },
    {
      "cell_type": "code",
      "metadata": {
        "id": "Uzw5WpDeymD3"
      },
      "source": [
        "data['org_name'] = names_short\n",
        "data['category1'] = categories[:, 0]\n",
        "data['category2'] = categories[:, 1]\n",
        "data['category3'] = categories[:, 2]\n",
        "data['category1_mcc_string'] = categories_mcc_string[:, 0]\n",
        "data['category2_mcc_string'] = categories_mcc_string[:, 1]\n",
        "data['category3_mcc_string'] = categories_mcc_string[:, 2]\n",
        "data.to_csv(\"CustFlowDataset_full_red_mcc.csv\", index=None)"
      ],
      "execution_count": null,
      "outputs": []
    },
    {
      "cell_type": "code",
      "metadata": {
        "id": "PXo8wTL2IhWY"
      },
      "source": [
        "data = data[data['category1_mcc_string'].values != \"none\"]\n",
        "data.to_csv(\"CustFlowDataset_full_red_mcc.csv\", index=None)"
      ],
      "execution_count": null,
      "outputs": []
    }
  ]
}